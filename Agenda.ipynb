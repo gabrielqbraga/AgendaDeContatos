{
 "cells": [
  {
   "cell_type": "markdown",
   "metadata": {},
   "source": [
    "Implemente uma agenda de contatos em Python que pode ser feito em grupo de 2 a 5 pessoas para praticar o versionamento de código em equipe.\n",
    "\n",
    "Crie um repositório Git para o projeto e divida as tarefas entre os membros da equipe. Teste prático de como clonar o repositório, criar ramificações, realizar commits e mesclar as alterações. Também é importante definir um fluxo de trabalho claro, como quem será responsável por quais partes do código.\n",
    "\n",
    "Implementem uma agenda básica com as funcionalidade:\n",
    "\n",
    "- Adicionar contatos.\n",
    "- Listar contatos.\n",
    "- Buscar contatos.\n",
    "- Deletar contatos.\n",
    "- Menu iterativo das opções anteriores."
   ]
  },
  {
   "cell_type": "code",
   "execution_count": null,
   "metadata": {},
   "outputs": [],
   "source": [
    "class Contato():\n",
    "    def __init__(self, nome, numero):\n",
    "        self.nome = nome\n",
    "        self.numero = numero"
   ]
  },
  {
   "cell_type": "code",
   "execution_count": null,
   "metadata": {},
   "outputs": [],
   "source": [
    "def main():\n",
    "    lista = []\n",
    "    escolha = \"\"\n",
    "\n",
    "    print(\"escolha sua operação: \\n-1 para adicionar \\n-2 para listar \\n-3 para buscar um contato \\4-para deletar contatos \\n\")\n",
    "    escolha = input(\"faça sua escolha: \")\n",
    "    if escolha == \"1\":\n",
    "        adicionar(lista)\n",
    "    elif escolha == \"2\":\n",
    "        listar(lista)\n",
    "    elif escolha == \"3\":\n",
    "        buscar(lista)\n",
    "    elif escolha == \"4\":\n",
    "        deletar(lista)\n"
   ]
  }
 ],
 "metadata": {
  "language_info": {
   "name": "python"
  }
 },
 "nbformat": 4,
 "nbformat_minor": 2
}
