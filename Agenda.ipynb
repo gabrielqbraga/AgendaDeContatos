{
 "cells": [
  {
   "cell_type": "markdown",
   "metadata": {},
   "source": [
    "Implemente uma agenda de contatos em Python que pode ser feito em grupo de 2 a 5 pessoas para praticar o versionamento de código em equipe.\n",
    "\n",
    "Crie um repositório Git para o projeto e divida as tarefas entre os membros da equipe. Teste prático de como clonar o repositório, criar ramificações, realizar commits e mesclar as alterações. Também é importante definir um fluxo de trabalho claro, como quem será responsável por quais partes do código.\n",
    "\n",
    "Implementem uma agenda básica com as funcionalidade:\n",
    "\n",
    "- Adicionar contatos.\n",
    "- Listar contatos.\n",
    "- Buscar contatos.\n",
    "- Deletar contatos.\n",
    "- Menu iterativo das opções anteriores."
   ]
  },
  {
   "cell_type": "code",
   "execution_count": null,
   "metadata": {},
   "outputs": [],
   "source": [
    "class Contato():\n",
    "    def __init__(self, nome, numero):\n",
    "        self.nome = nome\n",
    "        self.numero = numero"
   ]
  },
  {
   "cell_type": "code",
   "execution_count": null,
   "metadata": {},
   "outputs": [],
   "source": [
    "def adicionar(lista):\n",
    "    nome = input(\"Digite o nome do contato: \")\n",
    "    numero = input(\"Digite o numero do contato\")\n",
    "    \n",
    "    contato = Contato(nome,numero)\n",
    "    lista.append(contato)"
   ]
  },
  {
   "cell_type": "code",
   "execution_count": null,
   "metadata": {},
   "outputs": [],
   "source": [
    "def listar(listadecontatos):\n",
    "    for contato in listadecontatos:\n",
    "        print(contato.nome+\" - \"+contato.numero)"
   ]
  }
 ],
 "metadata": {
  "language_info": {
   "name": "python"
  }
 },
 "nbformat": 4,
 "nbformat_minor": 2
}
